{
 "cells": [
  {
   "cell_type": "code",
   "execution_count": 45,
   "metadata": {},
   "outputs": [],
   "source": [
    "import pandas as pd\n",
    "import numpy as np\n",
    "import matplotlib.pyplot as plt\n",
    "import seaborn as sns\n",
    "import warnings\n",
    "warnings.filterwarnings(\"ignore\")"
   ]
  },
  {
   "cell_type": "code",
   "execution_count": 2,
   "metadata": {},
   "outputs": [
    {
     "data": {
      "text/html": [
       "<div>\n",
       "<style scoped>\n",
       "    .dataframe tbody tr th:only-of-type {\n",
       "        vertical-align: middle;\n",
       "    }\n",
       "\n",
       "    .dataframe tbody tr th {\n",
       "        vertical-align: top;\n",
       "    }\n",
       "\n",
       "    .dataframe thead th {\n",
       "        text-align: right;\n",
       "    }\n",
       "</style>\n",
       "<table border=\"1\" class=\"dataframe\">\n",
       "  <thead>\n",
       "    <tr style=\"text-align: right;\">\n",
       "      <th></th>\n",
       "      <th>Model</th>\n",
       "      <th>Price</th>\n",
       "      <th>Age_08_04</th>\n",
       "      <th>KM</th>\n",
       "      <th>HP</th>\n",
       "      <th>Doors</th>\n",
       "      <th>Cylinders</th>\n",
       "      <th>Gears</th>\n",
       "      <th>Weight</th>\n",
       "    </tr>\n",
       "    <tr>\n",
       "      <th>Id</th>\n",
       "      <th></th>\n",
       "      <th></th>\n",
       "      <th></th>\n",
       "      <th></th>\n",
       "      <th></th>\n",
       "      <th></th>\n",
       "      <th></th>\n",
       "      <th></th>\n",
       "      <th></th>\n",
       "    </tr>\n",
       "  </thead>\n",
       "  <tbody>\n",
       "    <tr>\n",
       "      <th>1</th>\n",
       "      <td>TOYOTA Corolla 2.0 D4D HATCHB TERRA 2/3-Doors</td>\n",
       "      <td>13500</td>\n",
       "      <td>23</td>\n",
       "      <td>46986</td>\n",
       "      <td>90</td>\n",
       "      <td>3</td>\n",
       "      <td>4</td>\n",
       "      <td>5</td>\n",
       "      <td>1165</td>\n",
       "    </tr>\n",
       "    <tr>\n",
       "      <th>2</th>\n",
       "      <td>TOYOTA Corolla 2.0 D4D HATCHB TERRA 2/3-Doors</td>\n",
       "      <td>13750</td>\n",
       "      <td>23</td>\n",
       "      <td>72937</td>\n",
       "      <td>90</td>\n",
       "      <td>3</td>\n",
       "      <td>4</td>\n",
       "      <td>5</td>\n",
       "      <td>1165</td>\n",
       "    </tr>\n",
       "    <tr>\n",
       "      <th>3</th>\n",
       "      <td>ÊTOYOTA Corolla 2.0 D4D HATCHB TERRA 2/3-Doors</td>\n",
       "      <td>13950</td>\n",
       "      <td>24</td>\n",
       "      <td>41711</td>\n",
       "      <td>90</td>\n",
       "      <td>3</td>\n",
       "      <td>4</td>\n",
       "      <td>5</td>\n",
       "      <td>1165</td>\n",
       "    </tr>\n",
       "    <tr>\n",
       "      <th>4</th>\n",
       "      <td>TOYOTA Corolla 2.0 D4D HATCHB TERRA 2/3-Doors</td>\n",
       "      <td>14950</td>\n",
       "      <td>26</td>\n",
       "      <td>48000</td>\n",
       "      <td>90</td>\n",
       "      <td>3</td>\n",
       "      <td>4</td>\n",
       "      <td>5</td>\n",
       "      <td>1165</td>\n",
       "    </tr>\n",
       "    <tr>\n",
       "      <th>5</th>\n",
       "      <td>TOYOTA Corolla 2.0 D4D HATCHB SOL 2/3-Doors</td>\n",
       "      <td>13750</td>\n",
       "      <td>30</td>\n",
       "      <td>38500</td>\n",
       "      <td>90</td>\n",
       "      <td>3</td>\n",
       "      <td>4</td>\n",
       "      <td>5</td>\n",
       "      <td>1170</td>\n",
       "    </tr>\n",
       "    <tr>\n",
       "      <th>...</th>\n",
       "      <td>...</td>\n",
       "      <td>...</td>\n",
       "      <td>...</td>\n",
       "      <td>...</td>\n",
       "      <td>...</td>\n",
       "      <td>...</td>\n",
       "      <td>...</td>\n",
       "      <td>...</td>\n",
       "      <td>...</td>\n",
       "    </tr>\n",
       "    <tr>\n",
       "      <th>1438</th>\n",
       "      <td>TOYOTA Corolla 1.3 16V HATCHB G6 2/3-Doors</td>\n",
       "      <td>7500</td>\n",
       "      <td>69</td>\n",
       "      <td>20544</td>\n",
       "      <td>86</td>\n",
       "      <td>3</td>\n",
       "      <td>4</td>\n",
       "      <td>5</td>\n",
       "      <td>1025</td>\n",
       "    </tr>\n",
       "    <tr>\n",
       "      <th>1439</th>\n",
       "      <td>TOYOTA Corolla 1.3 16V HATCHB LINEA TERRA 2/3-...</td>\n",
       "      <td>10845</td>\n",
       "      <td>72</td>\n",
       "      <td>19000</td>\n",
       "      <td>86</td>\n",
       "      <td>3</td>\n",
       "      <td>4</td>\n",
       "      <td>5</td>\n",
       "      <td>1015</td>\n",
       "    </tr>\n",
       "    <tr>\n",
       "      <th>1440</th>\n",
       "      <td>TOYOTA Corolla 1.3 16V HATCHB LINEA TERRA 2/3-...</td>\n",
       "      <td>8500</td>\n",
       "      <td>71</td>\n",
       "      <td>17016</td>\n",
       "      <td>86</td>\n",
       "      <td>3</td>\n",
       "      <td>4</td>\n",
       "      <td>5</td>\n",
       "      <td>1015</td>\n",
       "    </tr>\n",
       "    <tr>\n",
       "      <th>1441</th>\n",
       "      <td>TOYOTA Corolla 1.3 16V HATCHB LINEA TERRA 2/3-...</td>\n",
       "      <td>7250</td>\n",
       "      <td>70</td>\n",
       "      <td>16916</td>\n",
       "      <td>86</td>\n",
       "      <td>3</td>\n",
       "      <td>4</td>\n",
       "      <td>5</td>\n",
       "      <td>1015</td>\n",
       "    </tr>\n",
       "    <tr>\n",
       "      <th>1442</th>\n",
       "      <td>TOYOTA Corolla 1.6 LB LINEA TERRA 4/5-Doors</td>\n",
       "      <td>6950</td>\n",
       "      <td>76</td>\n",
       "      <td>1</td>\n",
       "      <td>110</td>\n",
       "      <td>5</td>\n",
       "      <td>4</td>\n",
       "      <td>5</td>\n",
       "      <td>1114</td>\n",
       "    </tr>\n",
       "  </tbody>\n",
       "</table>\n",
       "<p>1436 rows × 9 columns</p>\n",
       "</div>"
      ],
      "text/plain": [
       "                                                  Model  Price  Age_08_04  \\\n",
       "Id                                                                          \n",
       "1         TOYOTA Corolla 2.0 D4D HATCHB TERRA 2/3-Doors  13500         23   \n",
       "2         TOYOTA Corolla 2.0 D4D HATCHB TERRA 2/3-Doors  13750         23   \n",
       "3        ÊTOYOTA Corolla 2.0 D4D HATCHB TERRA 2/3-Doors  13950         24   \n",
       "4         TOYOTA Corolla 2.0 D4D HATCHB TERRA 2/3-Doors  14950         26   \n",
       "5           TOYOTA Corolla 2.0 D4D HATCHB SOL 2/3-Doors  13750         30   \n",
       "...                                                 ...    ...        ...   \n",
       "1438         TOYOTA Corolla 1.3 16V HATCHB G6 2/3-Doors   7500         69   \n",
       "1439  TOYOTA Corolla 1.3 16V HATCHB LINEA TERRA 2/3-...  10845         72   \n",
       "1440  TOYOTA Corolla 1.3 16V HATCHB LINEA TERRA 2/3-...   8500         71   \n",
       "1441  TOYOTA Corolla 1.3 16V HATCHB LINEA TERRA 2/3-...   7250         70   \n",
       "1442        TOYOTA Corolla 1.6 LB LINEA TERRA 4/5-Doors   6950         76   \n",
       "\n",
       "         KM   HP  Doors  Cylinders  Gears  Weight  \n",
       "Id                                                 \n",
       "1     46986   90      3          4      5    1165  \n",
       "2     72937   90      3          4      5    1165  \n",
       "3     41711   90      3          4      5    1165  \n",
       "4     48000   90      3          4      5    1165  \n",
       "5     38500   90      3          4      5    1170  \n",
       "...     ...  ...    ...        ...    ...     ...  \n",
       "1438  20544   86      3          4      5    1025  \n",
       "1439  19000   86      3          4      5    1015  \n",
       "1440  17016   86      3          4      5    1015  \n",
       "1441  16916   86      3          4      5    1015  \n",
       "1442      1  110      5          4      5    1114  \n",
       "\n",
       "[1436 rows x 9 columns]"
      ]
     },
     "execution_count": 2,
     "metadata": {},
     "output_type": "execute_result"
    }
   ],
   "source": [
    "data = pd.read_csv(r'C:\\Users\\GM\\Downloads\\Latest DS Material\\Day 14-Multi Linear Regression\\Data Sets\\Toyoto_Corrola.csv', index_col=0)\n",
    "data"
   ]
  },
  {
   "cell_type": "code",
   "execution_count": 3,
   "metadata": {},
   "outputs": [
    {
     "name": "stdout",
     "output_type": "stream",
     "text": [
      "<class 'pandas.core.frame.DataFrame'>\n",
      "Int64Index: 1436 entries, 1 to 1442\n",
      "Data columns (total 9 columns):\n",
      " #   Column     Non-Null Count  Dtype \n",
      "---  ------     --------------  ----- \n",
      " 0   Model      1436 non-null   object\n",
      " 1   Price      1436 non-null   int64 \n",
      " 2   Age_08_04  1436 non-null   int64 \n",
      " 3   KM         1436 non-null   int64 \n",
      " 4   HP         1436 non-null   int64 \n",
      " 5   Doors      1436 non-null   int64 \n",
      " 6   Cylinders  1436 non-null   int64 \n",
      " 7   Gears      1436 non-null   int64 \n",
      " 8   Weight     1436 non-null   int64 \n",
      "dtypes: int64(8), object(1)\n",
      "memory usage: 112.2+ KB\n"
     ]
    }
   ],
   "source": [
    "data.info()"
   ]
  },
  {
   "cell_type": "code",
   "execution_count": 4,
   "metadata": {},
   "outputs": [
    {
     "data": {
      "text/html": [
       "<div>\n",
       "<style scoped>\n",
       "    .dataframe tbody tr th:only-of-type {\n",
       "        vertical-align: middle;\n",
       "    }\n",
       "\n",
       "    .dataframe tbody tr th {\n",
       "        vertical-align: top;\n",
       "    }\n",
       "\n",
       "    .dataframe thead th {\n",
       "        text-align: right;\n",
       "    }\n",
       "</style>\n",
       "<table border=\"1\" class=\"dataframe\">\n",
       "  <thead>\n",
       "    <tr style=\"text-align: right;\">\n",
       "      <th></th>\n",
       "      <th>Price</th>\n",
       "      <th>Age_08_04</th>\n",
       "      <th>KM</th>\n",
       "      <th>HP</th>\n",
       "      <th>Doors</th>\n",
       "      <th>Cylinders</th>\n",
       "      <th>Gears</th>\n",
       "      <th>Weight</th>\n",
       "    </tr>\n",
       "  </thead>\n",
       "  <tbody>\n",
       "    <tr>\n",
       "      <th>count</th>\n",
       "      <td>1436.000000</td>\n",
       "      <td>1436.000000</td>\n",
       "      <td>1436.000000</td>\n",
       "      <td>1436.000000</td>\n",
       "      <td>1436.000000</td>\n",
       "      <td>1436.0</td>\n",
       "      <td>1436.000000</td>\n",
       "      <td>1436.00000</td>\n",
       "    </tr>\n",
       "    <tr>\n",
       "      <th>mean</th>\n",
       "      <td>10730.824513</td>\n",
       "      <td>55.947075</td>\n",
       "      <td>68533.259749</td>\n",
       "      <td>101.502089</td>\n",
       "      <td>4.033426</td>\n",
       "      <td>4.0</td>\n",
       "      <td>5.026462</td>\n",
       "      <td>1072.45961</td>\n",
       "    </tr>\n",
       "    <tr>\n",
       "      <th>std</th>\n",
       "      <td>3626.964585</td>\n",
       "      <td>18.599988</td>\n",
       "      <td>37506.448872</td>\n",
       "      <td>14.981080</td>\n",
       "      <td>0.952677</td>\n",
       "      <td>0.0</td>\n",
       "      <td>0.188510</td>\n",
       "      <td>52.64112</td>\n",
       "    </tr>\n",
       "    <tr>\n",
       "      <th>min</th>\n",
       "      <td>4350.000000</td>\n",
       "      <td>1.000000</td>\n",
       "      <td>1.000000</td>\n",
       "      <td>69.000000</td>\n",
       "      <td>2.000000</td>\n",
       "      <td>4.0</td>\n",
       "      <td>3.000000</td>\n",
       "      <td>1000.00000</td>\n",
       "    </tr>\n",
       "    <tr>\n",
       "      <th>25%</th>\n",
       "      <td>8450.000000</td>\n",
       "      <td>44.000000</td>\n",
       "      <td>43000.000000</td>\n",
       "      <td>90.000000</td>\n",
       "      <td>3.000000</td>\n",
       "      <td>4.0</td>\n",
       "      <td>5.000000</td>\n",
       "      <td>1040.00000</td>\n",
       "    </tr>\n",
       "    <tr>\n",
       "      <th>50%</th>\n",
       "      <td>9900.000000</td>\n",
       "      <td>61.000000</td>\n",
       "      <td>63389.500000</td>\n",
       "      <td>110.000000</td>\n",
       "      <td>4.000000</td>\n",
       "      <td>4.0</td>\n",
       "      <td>5.000000</td>\n",
       "      <td>1070.00000</td>\n",
       "    </tr>\n",
       "    <tr>\n",
       "      <th>75%</th>\n",
       "      <td>11950.000000</td>\n",
       "      <td>70.000000</td>\n",
       "      <td>87020.750000</td>\n",
       "      <td>110.000000</td>\n",
       "      <td>5.000000</td>\n",
       "      <td>4.0</td>\n",
       "      <td>5.000000</td>\n",
       "      <td>1085.00000</td>\n",
       "    </tr>\n",
       "    <tr>\n",
       "      <th>max</th>\n",
       "      <td>32500.000000</td>\n",
       "      <td>80.000000</td>\n",
       "      <td>243000.000000</td>\n",
       "      <td>192.000000</td>\n",
       "      <td>5.000000</td>\n",
       "      <td>4.0</td>\n",
       "      <td>6.000000</td>\n",
       "      <td>1615.00000</td>\n",
       "    </tr>\n",
       "  </tbody>\n",
       "</table>\n",
       "</div>"
      ],
      "text/plain": [
       "              Price    Age_08_04             KM           HP        Doors  \\\n",
       "count   1436.000000  1436.000000    1436.000000  1436.000000  1436.000000   \n",
       "mean   10730.824513    55.947075   68533.259749   101.502089     4.033426   \n",
       "std     3626.964585    18.599988   37506.448872    14.981080     0.952677   \n",
       "min     4350.000000     1.000000       1.000000    69.000000     2.000000   \n",
       "25%     8450.000000    44.000000   43000.000000    90.000000     3.000000   \n",
       "50%     9900.000000    61.000000   63389.500000   110.000000     4.000000   \n",
       "75%    11950.000000    70.000000   87020.750000   110.000000     5.000000   \n",
       "max    32500.000000    80.000000  243000.000000   192.000000     5.000000   \n",
       "\n",
       "       Cylinders        Gears      Weight  \n",
       "count     1436.0  1436.000000  1436.00000  \n",
       "mean         4.0     5.026462  1072.45961  \n",
       "std          0.0     0.188510    52.64112  \n",
       "min          4.0     3.000000  1000.00000  \n",
       "25%          4.0     5.000000  1040.00000  \n",
       "50%          4.0     5.000000  1070.00000  \n",
       "75%          4.0     5.000000  1085.00000  \n",
       "max          4.0     6.000000  1615.00000  "
      ]
     },
     "execution_count": 4,
     "metadata": {},
     "output_type": "execute_result"
    }
   ],
   "source": [
    "data.describe()"
   ]
  },
  {
   "cell_type": "code",
   "execution_count": 5,
   "metadata": {},
   "outputs": [
    {
     "data": {
      "text/plain": [
       "Model        0\n",
       "Price        0\n",
       "Age_08_04    0\n",
       "KM           0\n",
       "HP           0\n",
       "Doors        0\n",
       "Cylinders    0\n",
       "Gears        0\n",
       "Weight       0\n",
       "dtype: int64"
      ]
     },
     "execution_count": 5,
     "metadata": {},
     "output_type": "execute_result"
    }
   ],
   "source": [
    "data.isnull().sum()"
   ]
  },
  {
   "cell_type": "code",
   "execution_count": 6,
   "metadata": {},
   "outputs": [
    {
     "data": {
      "text/plain": [
       "['Model']"
      ]
     },
     "execution_count": 6,
     "metadata": {},
     "output_type": "execute_result"
    }
   ],
   "source": [
    "colname=[]\n",
    "for x in data.columns:\n",
    "    if data[x].dtypes=='object':\n",
    "        colname.append(x)\n",
    "colname     "
   ]
  },
  {
   "cell_type": "code",
   "execution_count": 7,
   "metadata": {},
   "outputs": [
    {
     "name": "stdout",
     "output_type": "stream",
     "text": [
      "Feature Model\n",
      "mapping {'TOYOTA Corolla ': 0, 'TOYOTA Corolla ! 1.6-16v vvt-i sol airco sedan 4/5-Doors': 1, 'TOYOTA Corolla 1 6-16v VVT-i Linea Terra Comfort Airco 5drs 4/5-Doors': 2, 'TOYOTA Corolla 1.3 16V 2/3-Doors': 3, 'TOYOTA Corolla 1.3 16V HATCHB 2/3-Doors': 4, 'TOYOTA Corolla 1.3 16V HATCHB G6 2/3-Doors': 5, 'TOYOTA Corolla 1.3 16V HATCHB LINEA LUNA 2/3-Doors': 6, 'TOYOTA Corolla 1.3 16V HATCHB LINEA LUNA AUT3 2/3-Doors': 7, 'TOYOTA Corolla 1.3 16V HATCHB LINEA TERRA 2/3-Doors': 8, 'TOYOTA Corolla 1.3 16V HATCHB LINEA TERRA AUT3 2/3-Doors': 9, 'TOYOTA Corolla 1.3 16V HATCHB S 2/3-Doors': 10, 'TOYOTA Corolla 1.3 16V L. TERRA COMFORT 2/3-Doors': 11, 'TOYOTA Corolla 1.3 16V LB Linea Luna 4/5-Doors': 12, 'TOYOTA Corolla 1.3 16V LIFTB G6 4/5-Doors': 13, 'TOYOTA Corolla 1.3 16V LIFTB LINEA LUNA 4/5-Doors': 14, 'TOYOTA Corolla 1.3 16V LIFTB LINEA TERRA 4/5-Doors': 15, 'TOYOTA Corolla 1.3 16V LIFTB LINEA TERRA AUT3 4/5-Doors': 16, 'TOYOTA Corolla 1.3 16V Linea Terra 2/3-Doors': 17, 'TOYOTA Corolla 1.3 16V Linea Terra 4/5-Doors': 18, 'TOYOTA Corolla 1.3 16V Linea Terra Liftb 2/3-Doors': 19, 'TOYOTA Corolla 1.3 16V Linea Terra Liftb 4/5-Doors': 20, 'TOYOTA Corolla 1.3 16V SEDAN LINEA TERRA 4/5-Doors': 21, 'TOYOTA Corolla 1.3 16V SEDAN LINEA TERRA AUT3 4/5-Doors': 22, 'TOYOTA Corolla 1.3 16V WAGON LINEA LUNA Stationwagen': 23, 'TOYOTA Corolla 1.3 16V WAGON LINEA TERRA Stationwagen': 24, 'TOYOTA Corolla 1.3 16v linea terra': 25, 'TOYOTA Corolla 1.3 3D Linea Terra 2/3-Doors': 26, 'TOYOTA Corolla 1.3 G6 liftback 4/5-Doors': 27, 'TOYOTA Corolla 1.3 HB LINEA TERRA 2/3-Doors': 28, 'TOYOTA Corolla 1.3 HB LINEA TERRA AUT 2/3-Doors': 29, 'TOYOTA Corolla 1.3 HB LINEA TERRA AUT Anders': 30, 'TOYOTA Corolla 1.3 HB Linea Terra 2/3-Doors': 31, 'TOYOTA Corolla 1.3 Hatchback 2/3-Doors': 32, 'TOYOTA Corolla 1.3 I LUNA 2/3-Doors': 33, 'TOYOTA Corolla 1.3 LB LINEA TERRA 4/5-Doors': 34, 'TOYOTA Corolla 1.3 LIN. Terra 2/3-Doors': 35, 'TOYOTA Corolla 1.3 Linea Luna Hatchback 2/3-Doors': 36, 'TOYOTA Corolla 1.3 Linea Terra 3 drs 2/3-Doors': 37, 'TOYOTA Corolla 1.3 Linea Terra 4/5-Doors': 38, 'TOYOTA Corolla 1.3 Linea Terra Comfort 4/5-Doors': 39, 'TOYOTA Corolla 1.3 Linea Terra Hatchback 2/3-Doors': 40, 'TOYOTA Corolla 1.3 Linea Terra sedan 4/5-Doors': 41, 'TOYOTA Corolla 1.3 Linea Terra sedan Comf. 4/5-Doors': 42, 'TOYOTA Corolla 1.3 Linea Terra wagon Stationwagen': 43, 'TOYOTA Corolla 1.3 SDN LINEA TERRA AUT 4/5-Doors': 44, 'TOYOTA Corolla 1.3-16V Luna 2/3-Doors': 45, 'TOYOTA Corolla 1.3I LINEATERRA 2/3-Doors': 46, 'TOYOTA Corolla 1.3i LINEA TERRA 2/3-Doors': 47, 'TOYOTA Corolla 1.3i-16v Linea Terra 5d 4/5-Doors': 48, 'TOYOTA Corolla 1.4 16V 5DR TERRA 4/5-Doors': 49, 'TOYOTA Corolla 1.4 16V VVT I 3DR 2/3-Doors': 50, 'TOYOTA Corolla 1.4 16V VVT I 3DR TERRA 2/3-Doors': 51, 'TOYOTA Corolla 1.4 16V VVT I 3DR TERRA COMFORT 2/3-Doors': 52, 'TOYOTA Corolla 1.4 16V VVT I 5DR LUNA 4/5-Doors': 53, 'TOYOTA Corolla 1.4 16V VVT I 5DR LUNA BNS 4/5-Doors': 54, 'TOYOTA Corolla 1.4 16V VVT I 5DR SOL 4/5-Doors': 55, 'TOYOTA Corolla 1.4 16V VVT I 5DR TERRA 4/5-Doors': 56, 'TOYOTA Corolla 1.4 16V VVT I 5DR TERRA COMFORT 4/5-Doors': 57, 'TOYOTA Corolla 1.4 16V VVT I HATCHB SOL 2/3-Doors': 58, 'TOYOTA Corolla 1.4 16V VVT I HATCHB TERRA 2/3-Doors': 59, 'TOYOTA Corolla 1.4 16V VVT I LIFTB LUNA 4/5-Doors': 60, 'TOYOTA Corolla 1.4 16V VVT I LIFTB SOL 4/5-Doors': 61, 'TOYOTA Corolla 1.4 16V VVT I LIFTB TERRA 4/5-Doors': 62, 'TOYOTA Corolla 1.4 16V VVT I SEDAN TERRA COMF 4/5-Doors': 63, 'TOYOTA Corolla 1.4 HB LINEA TERRA 2/3-Doors': 64, 'TOYOTA Corolla 1.4 HB Terra 2/3-Doors': 65, 'TOYOTA Corolla 1.4 LB LINEA TERRA 4/5-Doors': 66, 'TOYOTA Corolla 1.4 VVT-i Linea Luna liftback 4/5-Doors': 67, 'TOYOTA Corolla 1.4 VVT-i Linea Sol HB 2/3-Doors': 68, 'TOYOTA Corolla 1.4 VVT-i Sol 2/3-Doors': 69, 'TOYOTA Corolla 1.4 VVT-i Terra 2/3-Doors': 70, 'TOYOTA Corolla 1.4 VVTI L.Terra HB 4/5-Doors': 71, 'TOYOTA Corolla 1.4 VVTI LB 4/5-Doors': 72, 'TOYOTA Corolla 1.4 VVTI Linea Terra 2/3-Doors': 73, 'TOYOTA Corolla 1.4-16v VVT-i Linea Terra Comfort NIEUW AIRCO 4/5-Doors': 74, 'TOYOTA Corolla 1.6 16V G6 2/3-Doors': 75, 'TOYOTA Corolla 1.6 16V HATCHB G6 2/3-Doors': 76, 'TOYOTA Corolla 1.6 16V HATCHB G6 R 2/3-Doors': 77, 'TOYOTA Corolla 1.6 16V HATCHB GTSI 2/3-Doors': 78, 'TOYOTA Corolla 1.6 16V HATCHB LINEA LUNA 2/3-Doors': 79, 'TOYOTA Corolla 1.6 16V HATCHB LINEA LUNA AUT4 2/3-Doors': 80, 'TOYOTA Corolla 1.6 16V HATCHB LINEA TERRA 2/3-Doors': 81, 'TOYOTA Corolla 1.6 16V HATCHB LINEA TERRA AUT4 2/3-Doors': 82, 'TOYOTA Corolla 1.6 16V HATCHB S 2/3-Doors': 83, 'TOYOTA Corolla 1.6 16V HATCHBACK LINEA LUNA 2/3-Doors': 84, 'TOYOTA Corolla 1.6 16V LIFTB LINEA LUNA 4/5-Doors': 85, 'TOYOTA Corolla 1.6 16V LIFTB LINEA LUNA AUT4 4/5-Doors': 86, 'TOYOTA Corolla 1.6 16V LIFTB LINEA TERRA 4/5-Doors': 87, 'TOYOTA Corolla 1.6 16V LIFTB LINEA TERRA AUT4 4/5-Doors': 88, 'TOYOTA Corolla 1.6 16V LIFTBACK LINEA LUNA 4/5-Doors': 89, 'TOYOTA Corolla 1.6 16V S-uitvoering 2/3-Doors': 90, 'TOYOTA Corolla 1.6 16V SEDAN LINEA LUNA 4/5-Doors': 91, 'TOYOTA Corolla 1.6 16V SEDAN LINEA LUNA AUT4 4/5-Doors': 92, 'TOYOTA Corolla 1.6 16V SEDAN LINEA TERRA 4/5-Doors': 93, 'TOYOTA Corolla 1.6 16V SEDAN LINEA TERRA AUT4 4/5-Doors': 94, 'TOYOTA Corolla 1.6 16V VVT I 3DR SOL 2/3-Doors': 95, 'TOYOTA Corolla 1.6 16V VVT I 3DR SOL AUT4 2/3-Doors': 96, 'TOYOTA Corolla 1.6 16V VVT I 3DR TERRA 2/3-Doors': 97, 'TOYOTA Corolla 1.6 16V VVT I 3DR TERRA COMF AUT 2/3-Doors': 98, 'TOYOTA Corolla 1.6 16V VVT I 3DR TERRA COMFORT 2/3-Doors': 99, 'TOYOTA Corolla 1.6 16V VVT I 5DR EXEC 4/5-Doors': 100, 'TOYOTA Corolla 1.6 16V VVT I 5DR EXEC BNS 4/5-Doors': 101, 'TOYOTA Corolla 1.6 16V VVT I 5DR SOL 4/5-Doors': 102, 'TOYOTA Corolla 1.6 16V VVT I 5DR SOL AUT4 4/5-Doors': 103, 'TOYOTA Corolla 1.6 16V VVT I 5DR SOL BNS 4/5-Doors': 104, 'TOYOTA Corolla 1.6 16V VVT I 5DR TERRA 4/5-Doors': 105, 'TOYOTA Corolla 1.6 16V VVT I 5DR TERRA COMFORT 4/5-Doors': 106, 'TOYOTA Corolla 1.6 16V VVT I HATCHB G6 2/3-Doors': 107, 'TOYOTA Corolla 1.6 16V VVT I HATCHB G6 4/5-Doors': 108, 'TOYOTA Corolla 1.6 16V VVT I HATCHB SOL 2/3-Doors': 109, 'TOYOTA Corolla 1.6 16V VVT I HATCHB SOL AUT4 2/3-Doors': 110, 'TOYOTA Corolla 1.6 16V VVT I HATCHB TERRA 2/3-Doors': 111, 'TOYOTA Corolla 1.6 16V VVT I HATCHB TERRA AUT4 2/3-Doors': 112, 'TOYOTA Corolla 1.6 16V VVT I LIFTB LUNA 4/5-Doors': 113, 'TOYOTA Corolla 1.6 16V VVT I LIFTB LUNA AUT4 4/5-Doors': 114, 'TOYOTA Corolla 1.6 16V VVT I LIFTB SOL 4/5-Doors': 115, 'TOYOTA Corolla 1.6 16V VVT I LIFTB SOL AUT4 4/5-Doors': 116, 'TOYOTA Corolla 1.6 16V VVT I LIFTB TERRA 4/5-Doors': 117, 'TOYOTA Corolla 1.6 16V VVT I SEDAN SOL 4/5-Doors': 118, 'TOYOTA Corolla 1.6 16V VVT I SEDAN SOL AUT4 4/5-Doors': 119, 'TOYOTA Corolla 1.6 16V VVT I SEDAN SOL BNS AUT4 4/5-Doors': 120, 'TOYOTA Corolla 1.6 16V VVT I SEDAN TERRA 4/5-Doors': 121, 'TOYOTA Corolla 1.6 16V VVT I SEDAN TERRA AUT4 4/5-Doors': 122, 'TOYOTA Corolla 1.6 16V VVT I SEDAN TERRA COMF 4/5-Doors': 123, 'TOYOTA Corolla 1.6 16V VVT I WAGON BLUE Stationwagen': 124, 'TOYOTA Corolla 1.6 16V VVT I WAGON TERRA Stationwagen': 125, 'TOYOTA Corolla 1.6 16V WAGON LINEA LUNA Stationwagen': 126, 'TOYOTA Corolla 1.6 16V WAGON LINEA TERRA AUT4 Stationwagen': 127, 'TOYOTA Corolla 1.6 16V WAGON LINEA TERRA Stationwagen': 128, 'TOYOTA Corolla 1.6 16v L.SOL 2/3-Doors': 129, 'TOYOTA Corolla 1.6 16v Liftback Linea Luna 4/5-Doors': 130, 'TOYOTA Corolla 1.6 16v Liftback Linea So 4/5-Doors': 131, 'TOYOTA Corolla 1.6 16v Liftback Linea Sol 4/5-Doors': 132, 'TOYOTA Corolla 1.6 16v Liftback Linea Terra 4/5-Doors': 133, 'TOYOTA Corolla 1.6 16v Linea Luna 2/3-Doors': 134, 'TOYOTA Corolla 1.6 16v Linea Terra 4/5-Doors': 135, 'TOYOTA Corolla 1.6 16v TERRA 4/5-Doors': 136, 'TOYOTA Corolla 1.6 16v VVT-i Linea Sol 2/3-Doors': 137, 'TOYOTA Corolla 1.6 16v VVTi Terra Comfort 2/3-Doors': 138, 'TOYOTA Corolla 1.6 16v VVTi Terra Comfort 4/5-Doors': 139, 'TOYOTA Corolla 1.6 3D Terra/Comf. 2/3-Doors': 140, 'TOYOTA Corolla 1.6 4/5-Doors': 141, 'TOYOTA Corolla 1.6 5drs 1 4/5-Doors': 142, 'TOYOTA Corolla 1.6 G6 HB 2/3-Doors': 143, 'TOYOTA Corolla 1.6 G6-R 2/3-Doors': 144, 'TOYOTA Corolla 1.6 G6R HB 2/3-Doors': 145, 'TOYOTA Corolla 1.6 GL LB 4/5-Doors': 146, 'TOYOTA Corolla 1.6 GTSi HB 2/3-Doors': 147, 'TOYOTA Corolla 1.6 GTSi HB 4/5-Doors': 148, 'TOYOTA Corolla 1.6 HATCHBACK 2/3-Doors': 149, 'TOYOTA Corolla 1.6 HB LINEA LUNA 2/3-Doors': 150, 'TOYOTA Corolla 1.6 HB LINEA LUNA AUT 2/3-Doors': 151, 'TOYOTA Corolla 1.6 HB LINEA SOL 4/5-Doors': 152, 'TOYOTA Corolla 1.6 HB LINEA TERRA 2/3-Doors': 153, 'TOYOTA Corolla 1.6 HB Linea Luna 2/3-Doors': 154, 'TOYOTA Corolla 1.6 HB Linea Terra 2/3-Doors': 155, 'TOYOTA Corolla 1.6 HB SOL 2/3-Doors': 156, 'TOYOTA Corolla 1.6 HB Terra 4/5-Doors': 157, 'TOYOTA Corolla 1.6 Hatchback 2/3-Doors': 158, 'TOYOTA Corolla 1.6 I lb luna 4/5-Doors': 159, 'TOYOTA Corolla 1.6 LB *G3* AIRCO 4/5-Doors': 160, 'TOYOTA Corolla 1.6 LB 4/5-Doors': 161, 'TOYOTA Corolla 1.6 LB LINEA LUNA 4/5-Doors': 162, 'TOYOTA Corolla 1.6 LB LINEA TERRA 4/5-Doors': 163, 'TOYOTA Corolla 1.6 LB Linea Terra 4/5-Doors': 164, 'TOYOTA Corolla 1.6 LINEA TERRA 4/5-Doors': 165, 'TOYOTA Corolla 1.6 LL HB 4/5-Doors': 166, 'TOYOTA Corolla 1.6 Lin.Terra Aut. 2/3-Doors': 167, 'TOYOTA Corolla 1.6 Lin.Terra Aut. 4/5-Doors': 168, 'TOYOTA Corolla 1.6 Linea Luna 2/3-Doors': 169, 'TOYOTA Corolla 1.6 Linea Luna 4/5-Doors': 170, 'TOYOTA Corolla 1.6 Linea Luna Aut. 4/5-Doors': 171, 'TOYOTA Corolla 1.6 Linea Luna Wagon Stationwagen': 172, 'TOYOTA Corolla 1.6 Linea Terra / Keuze uit 700 occasions 2/3-Doors': 173, 'TOYOTA Corolla 1.6 Linea Terra Comfort 2/3-Doors': 174, 'TOYOTA Corolla 1.6 Linea Terra Comfort 4/5-Doors': 175, 'TOYOTA Corolla 1.6 Linea Terra Comfort H 2/3-Doors': 176, 'TOYOTA Corolla 1.6 Linea Terra Comfort HB 2/3-Doors': 177, 'TOYOTA Corolla 1.6 Linea Terra HB 2/3-Doors': 178, 'TOYOTA Corolla 1.6 Linea Terra LB 4/5-Doors': 179, 'TOYOTA Corolla 1.6 Linea Terra Sd 4/5-Doors': 180, 'TOYOTA Corolla 1.6 Linea Terra Sedan 4/5-Doors': 181, 'TOYOTA Corolla 1.6 Luna LB 4/5-Doors': 182, 'TOYOTA Corolla 1.6 Luna Liftback 4/5-Doors': 183, 'TOYOTA Corolla 1.6 SD TERRA 4/5-Doors': 184, 'TOYOTA Corolla 1.6 SDN LINEA SOL 4/5-Doors': 185, 'TOYOTA Corolla 1.6 SDN LINEA TERRA 4/5-Doors': 186, 'TOYOTA Corolla 1.6 SDN LINEA TERRA AUT 4/5-Doors': 187, 'TOYOTA Corolla 1.6 Terra 5-Doors Liftback 4/5-Doors': 188, 'TOYOTA Corolla 1.6 Terra HB 2/3-Doors': 189, 'TOYOTA Corolla 1.6 Terra LB 4/5-Doors': 190, 'TOYOTA Corolla 1.6 Terra Stationwagen': 191, 'TOYOTA Corolla 1.6 VVT-I 5DR LINEA SOL 4/5-Doors': 192, 'TOYOTA Corolla 1.6 VVT-I 5DR LINEA TERRA 4/5-Doors': 193, 'TOYOTA Corolla 1.6 VVT-i L. Sol Wagon Stationwagen': 194, 'TOYOTA Corolla 1.6 VVT-i Linea Sol 4/5-Doors': 195, 'TOYOTA Corolla 1.6 VVT-i Linea Terra Comfort 4/5-Doors': 196, 'TOYOTA Corolla 1.6 VVTI Linea Sol Sedan 4/5-Doors': 197, 'TOYOTA Corolla 1.6 VVTI Linea Terra Comfort 4/5-Doors': 198, 'TOYOTA Corolla 1.6 VVTI Linea Terra liftback 4/5-Doors': 199, 'TOYOTA Corolla 1.6 VVTi Linea Luna 2/3-Doors': 200, 'TOYOTA Corolla 1.6 VVTi Linea Luna 4/5-Doors': 201, 'TOYOTA Corolla 1.6 VVTi Linea Luna Lift 4/5-Doors': 202, 'TOYOTA Corolla 1.6 VVTi Linea terra 2/3-Doors': 203, 'TOYOTA Corolla 1.6 VVTi Linea terra 4/5-Doors': 204, 'TOYOTA Corolla 1.6 WGN LINEA TERRA Stationwagen': 205, 'TOYOTA Corolla 1.6 lb aut 4/5-Doors': 206, 'TOYOTA Corolla 1.6 linea terra 4/5-Doors': 207, 'TOYOTA Corolla 1.6 sol lb 4/5-Doors': 208, 'TOYOTA Corolla 1.6 station 1 Stationwagen': 209, 'TOYOTA Corolla 1.6 vvt-i nw model comfort airco 5drs 4/5-Doors': 210, 'TOYOTA Corolla 1.6-16v Linea Terra 2/3-Doors': 211, 'TOYOTA Corolla 1.6-16v Linea Terra LB 4/5-Doors': 212, 'TOYOTA Corolla 1.6-16v VVT-i Executive B.edition 4/5-Doors': 213, 'TOYOTA Corolla 1.6-16v VVT-i Linea Terra Comfort AIRCO NIEUW 5DRS 4/5-Doors': 214, 'TOYOTA Corolla 1.6-16v VVT-i Linea Terra Comfort NIEUW AIRCO 5drs 4/5-Doors': 215, 'TOYOTA Corolla 1.6HB 2/3-Doors': 216, 'TOYOTA Corolla 1.6I LIFTBACK 4/5-Doors': 217, 'TOYOTA Corolla 1.6I Luna liftback 4/5-Doors': 218, 'TOYOTA Corolla 1.6i 16V VVT I SOL + Navigatie 4/5-Doors': 219, 'TOYOTA Corolla 1.6i Linea Terra HB 2/3-Doors': 220, 'TOYOTA Corolla 1.6i-16 SPORTS TC 2/3-Doors': 221, 'TOYOTA Corolla 1.6v VVT-i Linea Sol 4/5-Doors': 222, 'TOYOTA Corolla 1.8 16V VVTLI 3DR T SPORT 2/3-Doors': 223, 'TOYOTA Corolla 1.8 16V VVTLI 3DR T SPORT BNS 2/3-Doors': 224, 'TOYOTA Corolla 1.8 16V VVTLI 5DR T SPORT 4/5-Doors': 225, 'TOYOTA Corolla 1.8 VVTL-i T-Sport 3-Drs 2/3-Doors': 226, 'TOYOTA Corolla 1.8 VVTL-i T-Sport 4/5-Doors': 227, 'TOYOTA Corolla 1.8D 4/5-Doors': 228, 'TOYOTA Corolla 1.8D Stationwagen': 229, 'TOYOTA Corolla 1.9 D HATCHB SOL 2/3-Doors': 230, 'TOYOTA Corolla 1.9 D HATCHB TERRA 2/3-Doors': 231, 'TOYOTA Corolla 1.9 D HB SOL 2/3-Doors': 232, 'TOYOTA Corolla 1.9 D LB LINEA SOL 4/5-Doors': 233, 'TOYOTA Corolla 1.9 D LIFTB LUNA 4/5-Doors': 234, 'TOYOTA Corolla 1.9 D LIFTB TERRA 4/5-Doors': 235, 'TOYOTA Corolla 1.9 D Linea Terra 2/3-Doors': 236, 'TOYOTA Corolla 1.9 D SEDAN TERRA 4/5-Doors': 237, 'TOYOTA Corolla 1.9 D Sedan 4/5-Doors': 238, 'TOYOTA Corolla 1.9 D WAGON TERRA Stationwagen': 239, 'TOYOTA Corolla 1.9 D WGN LINEA TERRA Stationwagen': 240, 'TOYOTA Corolla 1.9 D Wagon Stationwagen': 241, 'TOYOTA Corolla 19D LB Linea Terra 4/5-Doors': 242, 'TOYOTA Corolla 2.0 D 4D Linea Sol 3 Doors 2/3-Doors': 243, 'TOYOTA Corolla 2.0 D Linea Terra 3d 2/3-Doors': 244, 'TOYOTA Corolla 2.0 D Linea Terra Liftback 4/5-Doors': 245, 'TOYOTA Corolla 2.0 D Linea luna Wagon Stationwagen': 246, 'TOYOTA Corolla 2.0 D4D 110 3DR SOL 2/3-Doors': 247, 'TOYOTA Corolla 2.0 D4D 110 5DR EXEC BNS 4/5-Doors': 248, 'TOYOTA Corolla 2.0 D4D 110 5DR SOL 4/5-Doors': 249, 'TOYOTA Corolla 2.0 D4D 116 5DR LUNA 4/5-Doors': 250, 'TOYOTA Corolla 2.0 D4D 90 3DR TERRA 2/3-Doors': 251, 'TOYOTA Corolla 2.0 D4D 90 3DR TERRA COMF BNS 2/3-Doors': 252, 'TOYOTA Corolla 2.0 D4D 90 5DR TERRA 4/5-Doors': 253, 'TOYOTA Corolla 2.0 D4D 90 5DR TERRA COMFORT 4/5-Doors': 254, 'TOYOTA Corolla 2.0 D4D 90 WAGON SOL Stationwagen': 255, 'TOYOTA Corolla 2.0 D4D HATCHB SOL 2/3-Doors': 256, 'TOYOTA Corolla 2.0 D4D HATCHB TERRA 2/3-Doors': 257, 'TOYOTA Corolla 2.0 D4D LIFTB SOL 4/5-Doors': 258, 'TOYOTA Corolla 2.0 D4D Linea Sol 3 Doors 2/3-Doors': 259, 'TOYOTA Corolla 2.0 D4D SEDAN SOL 4/5-Doors': 260, 'TOYOTA Corolla 2.0 DSL': 261, 'TOYOTA Corolla 2.0 DSL HATCHB LINEA LUNA 2/3-Doors': 262, 'TOYOTA Corolla 2.0 DSL HATCHB LINEA TERRA 2/3-Doors': 263, 'TOYOTA Corolla 2.0 DSL LIFTB LINEA LUNA 4/5-Doors': 264, 'TOYOTA Corolla 2.0 DSL LIFTB LINEA TERRA 4/5-Doors': 265, 'TOYOTA Corolla 2.0 DSL SEDAN LINEA TERRA 4/5-Doors': 266, 'TOYOTA Corolla 2.0 DSL WAGON LINEA TERRA COMM Anders': 267, 'TOYOTA Corolla 2.0 DSL WAGON LINEA TERRA Stationwagen': 268, 'TOYOTA Corolla 2.0 LB LINEA TERRA D 4/5-Doors': 269, 'TOYOTA Corolla 2.0 LB LINEA TERRA DSL 4/5-Doors': 270, 'TOYOTA Corolla 2.0 SDN LINEA TERRA DSL 4/5-Doors': 271, 'TOYOTA Corolla 2.0 ST WGN LINEA TERRA DSL Stationwagen': 272, 'TOYOTA Corolla 2.0 d HB Diesel 2/3-Doors': 273, 'TOYOTA Corolla 2.0D 4/5-Doors': 274, 'TOYOTA Corolla 2.0D LINEA TERRA+airco 2/3-Doors': 275, 'TOYOTA Corolla 2.0D Linea Terra 2/3-Doors': 276, 'TOYOTA Corolla 2.0D TERRA LIFTBACK 4/5-Doors': 277, 'TOYOTA Corolla 2.0D XL Sedan 4/5-Doors': 278, 'TOYOTA Corolla 2.0diesel Stationwagen': 279, 'TOYOTA Corolla 2/3-Doors': 280, 'TOYOTA Corolla 3drs 13i-16V 2/3-Doors': 281, 'TOYOTA Corolla Hatchback 1.6 Terra Comfort 2/3-Doors': 282, 'TOYOTA Corolla LIFTBACK 1.3i Linea Luna Liftback 4/5-Doors': 283, 'TOYOTA Corolla LIFTBACK 1.3i Linea Terra Liftback 4/5-Doors': 284, 'TOYOTA Corolla LIFTBACK 1.4 16V VVTI TERRA 4/5-Doors': 285, 'TOYOTA Corolla LIFTBACK 1.6 Linea Luna Liftback 4/5-Doors': 286, 'TOYOTA Corolla LIFTBACK 1.6 Linea Sol 4/5-Doors': 287, 'TOYOTA Corolla LIFTBACK 1.6 Linea Terra Liftback 4/5-Doors': 288, 'TOYOTA Corolla LIFTBACK 1.6 Linea terra 4/5-Doors': 289, 'TOYOTA Corolla LIFTBACK 1.6-16v Linea Luna 2/3-Doors': 290, 'TOYOTA Corolla LIFTBACK 1.6-16v Linea Luna 4/5-Doors': 291, 'TOYOTA Corolla LIFTBACK 1.9 D Linea Terra 4/5-Doors': 292, 'TOYOTA Corolla Liftback 1.6 VVTI 4/5-Doors': 293, 'TOYOTA Corolla Linea Luna 1.6i 16V 2/3-Doors': 294, 'TOYOTA Corolla Luna 5drs D4D116 PK 4/5-Doors': 295, 'TOYOTA Corolla Sw 20D Linea Terra Stationwagen': 296, 'TOYOTA Corolla VERSO 2.0 D4D LINEA SOL MPV': 297, 'TOYOTA Corolla VERSO 2.0 D4D SOL (7) MPV': 298, 'ÊTOYOTA Corolla 1.3 16V HATCHB G6 2/3-Doors': 299, 'ÊTOYOTA Corolla 1.3 16V HATCHB LINEA TERRA 2/3-Doors': 300, 'ÊTOYOTA Corolla 1.3 16V WAGON LINEA TERRA Stationwagen': 301, 'ÊTOYOTA Corolla 1.3 Linea Terra liftback 4/5-Doors': 302, 'ÊTOYOTA Corolla 1.4 16V VVT I 3DR 2/3-Doors': 303, 'ÊTOYOTA Corolla 1.4 16V VVT I 3DR TERRA COMFORT 2/3-Doors': 304, 'ÊTOYOTA Corolla 1.4 16V VVT I 5DR 4/5-Doors': 305, 'ÊTOYOTA Corolla 1.4 16V VVT I 5DR LUNA 4/5-Doors': 306, 'ÊTOYOTA Corolla 1.4 16V VVT I 5DR TERRA 4/5-Doors': 307, 'ÊTOYOTA Corolla 1.4 16V VVT I 5DR TERRA COMFORT 4/5-Doors': 308, 'ÊTOYOTA Corolla 1.4 16V VVT I HATCHB SOL 2/3-Doors': 309, 'ÊTOYOTA Corolla 1.4 16V VVT I HATCHB TERRA 2/3-Doors': 310, 'ÊTOYOTA Corolla 1.4 16V VVT I LIFTB LUNA 4/5-Doors': 311, 'ÊTOYOTA Corolla 1.4 16V VVT I LIFTB SOL 4/5-Doors': 312, 'ÊTOYOTA Corolla 1.4 16V VVT I LIFTB TERRA 4/5-Doors': 313, 'ÊTOYOTA Corolla 1.4 VVTI  (Nw type) 4/5-Doors': 314, 'ÊTOYOTA Corolla 1.4 VVTI Linea Terra 2/3-Doors': 315, 'ÊTOYOTA Corolla 1.4-16v VVT-i Linea Terra Comfort NIEUW AIRCO 4/5-Doors': 316, 'ÊTOYOTA Corolla 1.6 16V HATCHB LINEA TERRA 2/3-Doors': 317, 'ÊTOYOTA Corolla 1.6 16V HATCHB S 2/3-Doors': 318, 'ÊTOYOTA Corolla 1.6 16V LIFTB LINEA LUNA 4/5-Doors': 319, 'ÊTOYOTA Corolla 1.6 16V LIFTB LINEA TERRA 4/5-Doors': 320, 'ÊTOYOTA Corolla 1.6 16V VVT I 3DR SOL 2/3-Doors': 321, 'ÊTOYOTA Corolla 1.6 16V VVT I 3DR TERRA 2/3-Doors': 322, 'ÊTOYOTA Corolla 1.6 16V VVT I 3DR TERRA COMFORT 2/3-Doors': 323, 'ÊTOYOTA Corolla 1.6 16V VVT I 5DR SOL 4/5-Doors': 324, 'ÊTOYOTA Corolla 1.6 16V VVT I 5DR SOL AUT4 4/5-Doors': 325, 'ÊTOYOTA Corolla 1.6 16V VVT I 5DR TERRA 4/5-Doors': 326, 'ÊTOYOTA Corolla 1.6 16V VVT I 5DR TERRA AUT4 4/5-Doors': 327, 'ÊTOYOTA Corolla 1.6 16V VVT I 5DR TERRA COMF AUT 4/5-Doors': 328, 'ÊTOYOTA Corolla 1.6 16V VVT I 5DR TERRA COMFORT 4/5-Doors': 329, 'ÊTOYOTA Corolla 1.6 16V VVT I HATCHB G6 2/3-Doors': 330, 'ÊTOYOTA Corolla 1.6 16V VVT I HATCHB G6 4/5-Doors': 331, 'ÊTOYOTA Corolla 1.6 16V VVT I HATCHB SOL 2/3-Doors': 332, 'ÊTOYOTA Corolla 1.6 16V VVT I HATCHB TERRA 2/3-Doors': 333, 'ÊTOYOTA Corolla 1.6 16V VVT I HATCHB TERRA AUT4 2/3-Doors': 334, 'ÊTOYOTA Corolla 1.6 16V VVT I LIFTB LUNA 4/5-Doors': 335, 'ÊTOYOTA Corolla 1.6 16V VVT I LIFTB SOL 4/5-Doors': 336, 'ÊTOYOTA Corolla 1.6 16V VVT I LIFTB TERRA 4/5-Doors': 337, 'ÊTOYOTA Corolla 1.6 16V VVT I SEDAN TERRA 4/5-Doors': 338, 'ÊTOYOTA Corolla 1.6 16V VVT I SEDAN TERRA AUT4 4/5-Doors': 339, 'ÊTOYOTA Corolla 1.6 16V VVT I WAGON TERRA Stationwagen': 340, 'ÊTOYOTA Corolla 1.6 16v Linea Luna Stationwagen': 341, 'ÊTOYOTA Corolla 1.6 16v VVTi Linea Sol 4/5-Doors': 342, 'ÊTOYOTA Corolla 1.6 HB LINEA TERRA 2/3-Doors': 343, 'ÊTOYOTA Corolla 1.6 LB LINEA SOL 4/5-Doors': 344, 'ÊTOYOTA Corolla 1.6 SDN LINEA SOL 4/5-Doors': 345, 'ÊTOYOTA Corolla 1.6 SDN LINEA TERRA 4/5-Doors': 346, 'ÊTOYOTA Corolla 1.6 Terra LB Comf. 4/5-Doors': 347, 'ÊTOYOTA Corolla 1.6 VVT-i Linea Sol 4/5-Doors': 348, 'ÊTOYOTA Corolla 1.6 VVT-i Linea Terra Comfort 2/3-Doors': 349, 'ÊTOYOTA Corolla 1.6 VVTI Linea Terra Comfort 2/3-Doors': 350, 'ÊTOYOTA Corolla 1.6 VVTI Linea Terra liftback 4/5-Doors': 351, 'ÊTOYOTA Corolla 1.6 VVTi Terra Comfort 4/5-Doors': 352, 'ÊTOYOTA Corolla 1.6 terra comfort 5drs airco 4/5-Doors': 353, 'ÊTOYOTA Corolla 1.8 16V VVTLI 3DR T SPORT 2/3-Doors': 354, 'ÊTOYOTA Corolla 1.8 VVTL-i T-Sport 3-Drs 4/5-Doors': 355, 'ÊTOYOTA Corolla 1.9 D HATCHB SOL 2/3-Doors': 356, 'ÊTOYOTA Corolla 1.9 D HATCHB TERRA 2/3-Doors': 357, 'ÊTOYOTA Corolla 1.9 D LIFTB TERRA 4/5-Doors': 358, 'ÊTOYOTA Corolla 1.9 D SEDAN TERRA 4/5-Doors': 359, 'ÊTOYOTA Corolla 1800 T SPORT VVT I 2/3-Doors': 360, 'ÊTOYOTA Corolla 2.0 D4D 90 3DR SOL BNS 2/3-Doors': 361, 'ÊTOYOTA Corolla 2.0 D4D 90 3DR TERRA 2/3-Doors': 362, 'ÊTOYOTA Corolla 2.0 D4D 90 5DR SOL 4/5-Doors': 363, 'ÊTOYOTA Corolla 2.0 D4D 90 5DR TERRA COMFORT 4/5-Doors': 364, 'ÊTOYOTA Corolla 2.0 D4D HATCHB TERRA 2/3-Doors': 365, 'ÊTOYOTA Corolla 2.0 D4D Linea Terra Comfort 4/5-Doors': 366, 'ÊTOYOTA Corolla 2.0 DSL HATCHB LINEA TERRA 2/3-Doors': 367, 'ÊTOYOTA Corolla LIFTBACK 1.4 VVT-i LINEA TERRA 4/5-Doors': 368, 'ÊTOYOTA Corolla LIFTBACK 1.6 Linea terra 4/5-Doors': 369, 'ÊTOYOTA Corolla VERSO 2.0 D4D LINEA SOL MPV': 370, 'ÊTOYOTA Corolla VERSO 2.0 D4D SOL (7) BNS MPV': 371}\n"
     ]
    }
   ],
   "source": [
    "from sklearn.preprocessing import LabelEncoder\n",
    "\n",
    "le=LabelEncoder()\n",
    "\n",
    "for x in colname:\n",
    "    data[x]=le.fit_transform(data[x])\n",
    "    \n",
    "    \n",
    "    le_name_mapping = dict(zip(le.classes_, le.transform(le.classes_)))\n",
    "    print('Feature', x)\n",
    "    print('mapping', le_name_mapping)"
   ]
  },
  {
   "cell_type": "code",
   "execution_count": 8,
   "metadata": {},
   "outputs": [
    {
     "data": {
      "text/html": [
       "<div>\n",
       "<style scoped>\n",
       "    .dataframe tbody tr th:only-of-type {\n",
       "        vertical-align: middle;\n",
       "    }\n",
       "\n",
       "    .dataframe tbody tr th {\n",
       "        vertical-align: top;\n",
       "    }\n",
       "\n",
       "    .dataframe thead th {\n",
       "        text-align: right;\n",
       "    }\n",
       "</style>\n",
       "<table border=\"1\" class=\"dataframe\">\n",
       "  <thead>\n",
       "    <tr style=\"text-align: right;\">\n",
       "      <th></th>\n",
       "      <th>Model</th>\n",
       "      <th>Price</th>\n",
       "      <th>Age_08_04</th>\n",
       "      <th>KM</th>\n",
       "      <th>HP</th>\n",
       "      <th>Doors</th>\n",
       "      <th>Cylinders</th>\n",
       "      <th>Gears</th>\n",
       "      <th>Weight</th>\n",
       "    </tr>\n",
       "    <tr>\n",
       "      <th>Id</th>\n",
       "      <th></th>\n",
       "      <th></th>\n",
       "      <th></th>\n",
       "      <th></th>\n",
       "      <th></th>\n",
       "      <th></th>\n",
       "      <th></th>\n",
       "      <th></th>\n",
       "      <th></th>\n",
       "    </tr>\n",
       "  </thead>\n",
       "  <tbody>\n",
       "    <tr>\n",
       "      <th>1</th>\n",
       "      <td>257</td>\n",
       "      <td>13500</td>\n",
       "      <td>23</td>\n",
       "      <td>46986</td>\n",
       "      <td>90</td>\n",
       "      <td>3</td>\n",
       "      <td>4</td>\n",
       "      <td>5</td>\n",
       "      <td>1165</td>\n",
       "    </tr>\n",
       "    <tr>\n",
       "      <th>2</th>\n",
       "      <td>257</td>\n",
       "      <td>13750</td>\n",
       "      <td>23</td>\n",
       "      <td>72937</td>\n",
       "      <td>90</td>\n",
       "      <td>3</td>\n",
       "      <td>4</td>\n",
       "      <td>5</td>\n",
       "      <td>1165</td>\n",
       "    </tr>\n",
       "    <tr>\n",
       "      <th>3</th>\n",
       "      <td>365</td>\n",
       "      <td>13950</td>\n",
       "      <td>24</td>\n",
       "      <td>41711</td>\n",
       "      <td>90</td>\n",
       "      <td>3</td>\n",
       "      <td>4</td>\n",
       "      <td>5</td>\n",
       "      <td>1165</td>\n",
       "    </tr>\n",
       "    <tr>\n",
       "      <th>4</th>\n",
       "      <td>257</td>\n",
       "      <td>14950</td>\n",
       "      <td>26</td>\n",
       "      <td>48000</td>\n",
       "      <td>90</td>\n",
       "      <td>3</td>\n",
       "      <td>4</td>\n",
       "      <td>5</td>\n",
       "      <td>1165</td>\n",
       "    </tr>\n",
       "    <tr>\n",
       "      <th>5</th>\n",
       "      <td>256</td>\n",
       "      <td>13750</td>\n",
       "      <td>30</td>\n",
       "      <td>38500</td>\n",
       "      <td>90</td>\n",
       "      <td>3</td>\n",
       "      <td>4</td>\n",
       "      <td>5</td>\n",
       "      <td>1170</td>\n",
       "    </tr>\n",
       "  </tbody>\n",
       "</table>\n",
       "</div>"
      ],
      "text/plain": [
       "    Model  Price  Age_08_04     KM  HP  Doors  Cylinders  Gears  Weight\n",
       "Id                                                                     \n",
       "1     257  13500         23  46986  90      3          4      5    1165\n",
       "2     257  13750         23  72937  90      3          4      5    1165\n",
       "3     365  13950         24  41711  90      3          4      5    1165\n",
       "4     257  14950         26  48000  90      3          4      5    1165\n",
       "5     256  13750         30  38500  90      3          4      5    1170"
      ]
     },
     "execution_count": 8,
     "metadata": {},
     "output_type": "execute_result"
    }
   ],
   "source": [
    "data.head()"
   ]
  },
  {
   "cell_type": "code",
   "execution_count": 9,
   "metadata": {},
   "outputs": [
    {
     "data": {
      "image/png": "[encoded data removed]",
      "text/plain": [
       "<Figure size 640x480 with 1 Axes>"
      ]
     },
     "metadata": {},
     "output_type": "display_data"
    }
   ],
   "source": [
    "data.boxplot(column='Age_08_04')\n",
    "plt.show()"
   ]
  },
  {
   "cell_type": "code",
   "execution_count": 10,
   "metadata": {},
   "outputs": [
    {
     "data": {
      "image/png": "[encoded data removed]",
      "text/plain": [
       "<Figure size 640x480 with 1 Axes>"
      ]
     },
     "metadata": {},
     "output_type": "display_data"
    }
   ],
   "source": [
    "data.boxplot(column='KM')\n",
    "plt.show()"
   ]
  },
  {
   "cell_type": "code",
   "execution_count": 11,
   "metadata": {},
   "outputs": [
    {
     "data": {
      "image/png": "[encoded data removed]",
      "text/plain": [
       "<Figure size 640x480 with 1 Axes>"
      ]
     },
     "metadata": {},
     "output_type": "display_data"
    }
   ],
   "source": [
    "data.boxplot(column='HP')\n",
    "plt.show()"
   ]
  },
  {
   "cell_type": "code",
   "execution_count": 12,
   "metadata": {},
   "outputs": [
    {
     "data": {
      "image/png": "[encoded data removed]",
      "text/plain": [
       "<Figure size 640x480 with 1 Axes>"
      ]
     },
     "metadata": {},
     "output_type": "display_data"
    }
   ],
   "source": [
    "data.boxplot(column='Doors')\n",
    "plt.show()"
   ]
  },
  {
   "cell_type": "code",
   "execution_count": 13,
   "metadata": {},
   "outputs": [
    {
     "data": {
      "image/png": "[encoded data removed]",
      "text/plain": [
       "<Figure size 640x480 with 1 Axes>"
      ]
     },
     "metadata": {},
     "output_type": "display_data"
    }
   ],
   "source": [
    "data.boxplot(column='Cylinders')\n",
    "plt.show()"
   ]
  },
  {
   "cell_type": "code",
   "execution_count": 14,
   "metadata": {},
   "outputs": [
    {
     "data": {
      "image/png": "[encoded data removed]",
      "text/plain": [
       "<Figure size 640x480 with 1 Axes>"
      ]
     },
     "metadata": {},
     "output_type": "display_data"
    }
   ],
   "source": [
    "data.boxplot(column='Gears')\n",
    "plt.show()"
   ]
  },
  {
   "cell_type": "code",
   "execution_count": 15,
   "metadata": {},
   "outputs": [
    {
     "data": {
      "image/png": "[encoded data removed]",
      "text/plain": [
       "<Figure size 640x480 with 1 Axes>"
      ]
     },
     "metadata": {},
     "output_type": "display_data"
    }
   ],
   "source": [
    "data.boxplot(column='Weight')\n",
    "plt.show()"
   ]
  },
  {
   "cell_type": "code",
   "execution_count": 16,
   "metadata": {},
   "outputs": [],
   "source": [
    "data.drop(data[data[\"HP\"]>180].index,axis=0,inplace=True)"
   ]
  },
  {
   "cell_type": "code",
   "execution_count": 17,
   "metadata": {},
   "outputs": [
    {
     "data": {
      "image/png": "[encoded data removed]",
      "text/plain": [
       "<Figure size 640x480 with 1 Axes>"
      ]
     },
     "metadata": {},
     "output_type": "display_data"
    }
   ],
   "source": [
    "data.boxplot(column='HP')\n",
    "plt.show()"
   ]
  },
  {
   "cell_type": "code",
   "execution_count": 29,
   "metadata": {},
   "outputs": [],
   "source": [
    "X =data[['Model', 'Age_08_04', 'KM','HP', 'Doors', 'Cylinders', 'Gears','Weight']]\n",
    "Y = data['Price']"
   ]
  },
  {
   "cell_type": "code",
   "execution_count": 30,
   "metadata": {},
   "outputs": [
    {
     "name": "stdout",
     "output_type": "stream",
     "text": [
      "              Model  Age_08_04        KM        HP     Doors  Cylinders  \\\n",
      "Model      1.000000  -0.312102  0.061144 -0.031758  0.156851        NaN   \n",
      "Age_08_04 -0.312102   1.000000  0.501137 -0.100082 -0.156376        NaN   \n",
      "KM         0.061144   0.501137  1.000000 -0.344114 -0.041538        NaN   \n",
      "HP        -0.031758  -0.100082 -0.344114  1.000000  0.137874        NaN   \n",
      "Doors      0.156851  -0.156376 -0.041538  0.137874  1.000000        NaN   \n",
      "Cylinders       NaN        NaN       NaN       NaN       NaN        NaN   \n",
      "Gears     -0.053522   0.035237  0.039876  0.074049 -0.151129        NaN   \n",
      "Weight     0.486951  -0.456870 -0.013588 -0.014136  0.318032        NaN   \n",
      "\n",
      "              Gears    Weight  \n",
      "Model     -0.053522  0.486951  \n",
      "Age_08_04  0.035237 -0.456870  \n",
      "KM         0.039876 -0.013588  \n",
      "HP         0.074049 -0.014136  \n",
      "Doors     -0.151129  0.318032  \n",
      "Cylinders       NaN       NaN  \n",
      "Gears      1.000000 -0.036594  \n",
      "Weight    -0.036594  1.000000  \n"
     ]
    }
   ],
   "source": [
    "corr_df=X.corr(method='pearson')\n",
    "print(corr_df)"
   ]
  },
  {
   "cell_type": "code",
   "execution_count": 32,
   "metadata": {},
   "outputs": [
    {
     "data": {
      "text/plain": [
       "<Axes: >"
      ]
     },
     "execution_count": 32,
     "metadata": {},
     "output_type": "execute_result"
    }
   ],
   "source": [
    "sns.heatmap(corr_df,annot=True)"
   ]
  },
  {
   "cell_type": "code",
   "execution_count": 33,
   "metadata": {},
   "outputs": [],
   "source": [
    "from sklearn.preprocessing import StandardScaler\n",
    "\n",
    "scaler=StandardScaler()\n",
    "\n",
    "scaler.fit(X)\n",
    "X = scaler.transform(X)"
   ]
  },
  {
   "cell_type": "code",
   "execution_count": 35,
   "metadata": {},
   "outputs": [
    {
     "data": {
      "text/plain": [
       "array([[ 1.33361931, -1.79430187, -0.5817912 , ...,  0.        ,\n",
       "        -0.12334651,  1.80170785],\n",
       "       [ 1.33361931, -1.79430187,  0.11032715, ...,  0.        ,\n",
       "        -0.12334651,  1.80170785],\n",
       "       [ 2.44221944, -1.74020861, -0.7224765 , ...,  0.        ,\n",
       "        -0.12334651,  1.80170785],\n",
       "       ...,\n",
       "       [-1.22231989,  0.80217456, -1.38109707, ...,  0.        ,\n",
       "        -0.12334651, -1.09110999],\n",
       "       [-1.22231989,  0.7480813 , -1.38376409, ...,  0.        ,\n",
       "        -0.12334651, -1.09110999],\n",
       "       [ 0.3687266 ,  1.07264085, -1.83489051, ...,  0.        ,\n",
       "        -0.12334651,  0.81814979]])"
      ]
     },
     "execution_count": 35,
     "metadata": {},
     "output_type": "execute_result"
    }
   ],
   "source": [
    "X"
   ]
  },
  {
   "cell_type": "code",
   "execution_count": 36,
   "metadata": {},
   "outputs": [],
   "source": [
    "from sklearn.model_selection import train_test_split \n",
    "X_train,X_test,Y_train,Y_test=train_test_split(X,Y,test_size=0.2,random_state=10)"
   ]
  },
  {
   "cell_type": "code",
   "execution_count": 37,
   "metadata": {},
   "outputs": [
    {
     "name": "stdout",
     "output_type": "stream",
     "text": [
      "10618.115097670743\n",
      "[-1.05742667e+02 -2.28029715e+03 -7.55233135e+02  2.75850375e+02\n",
      "  7.47403761e+00 -4.54747351e-13  8.99344457e+01  9.32085309e+02]\n"
     ]
    }
   ],
   "source": [
    "from sklearn.linear_model import LinearRegression\n",
    "#create a model object\n",
    "lm = LinearRegression()\n",
    "\n",
    "#train the model object\n",
    "lm.fit(X_train,Y_train)\n",
    "\n",
    "#print intercept and coefficients\n",
    "print(lm.intercept_)\n",
    "print(lm.coef_)"
   ]
  },
  {
   "cell_type": "code",
   "execution_count": 40,
   "metadata": {},
   "outputs": [
    {
     "name": "stdout",
     "output_type": "stream",
     "text": [
      "[10941.39253832 16300.20405449  9911.20871013  6565.72938664\n",
      " 10959.97943119  8918.79559478 12796.29286435  8581.65655081\n",
      " 10636.84554836  9976.27404844 19402.14465378 11036.39349688\n",
      " 19370.77936182 16557.01543298 11866.52374121 17661.64987116\n",
      " 13010.09989031  9755.10433442 11289.43533955  8144.11553654\n",
      " 17929.37579495  8495.81049364  8988.78770405 18338.68519667\n",
      " 10348.6973628  11088.75044846  8198.05343099  9958.73241685\n",
      " 10199.86056072 10751.69672517  9712.45127347 16433.16150283\n",
      "  7690.26844825  7805.82529615  6963.2584266   7864.55651261\n",
      " 12914.56525482  7981.66487308 11120.91808708 15266.52239221\n",
      "  7027.72015452  9419.49665113 10625.23135679  9293.86354178\n",
      " 13336.12078235 15946.69289549  8178.22852315  9202.11095802\n",
      " 18322.89115427 10128.24726579 11174.28578885 10883.72198592\n",
      " 11364.71344403  6504.26875921 16489.17109777  8473.29357472\n",
      "  8602.93399041  9153.48084136 13084.33990742 11489.34493239\n",
      " 16127.45015729 15350.10939766 13483.57592508  9843.79685619\n",
      " 13192.84310372  8015.86382028 17495.44224743  9525.72447961\n",
      " 10340.71560344 15920.57475698 17225.4684783   8024.20507601\n",
      "  5922.51015537 12972.76167555 11967.89326484  7729.98984434\n",
      " 10758.25641954  7804.87359306  7602.63956033  9008.23547616\n",
      " 13427.51977769 11363.05880431  8604.61138923 15470.82083857\n",
      " 12842.18876335 13351.25032289 10754.76210693  5745.01268685\n",
      " 11000.87537656 22206.14971143 13864.1964915   8738.92469086\n",
      " 12167.04048766 10535.89498066 16709.32330299  9741.56251103\n",
      " 12171.12470924  6420.81997863  8613.359901    9914.09211224\n",
      "  7596.8832974  10518.62959365  7464.63225463 10716.30156887\n",
      "  6831.11474695  9783.61224267  8508.81109671  8559.36127341\n",
      " 16385.93414232  8605.00883844  8305.50101288 17169.95032696\n",
      "  9192.30535033  6671.95838771  6892.06007859  8088.75864505\n",
      " 13580.08140239  8774.93774248 10100.20617399 10626.07589762\n",
      " 11414.22068466  7587.57943661  6553.34862355 12465.5850716\n",
      "  8741.06214336 11680.99365821 11350.4796078   7719.47331889\n",
      "  8226.84786358  9775.83285511 13196.2070605   8744.84685308\n",
      " 10492.50783062 11829.28639763 11012.6475687  12811.47897629\n",
      " 12174.05611881  9324.11529557 11031.85521484 17508.95337864\n",
      " 16289.78423892  8890.07635527 10310.47196474  6787.37234534\n",
      " 12195.20258294 10475.62538967  7166.62992346  9806.28044779\n",
      "  9855.4413901  16129.05447972 11843.44701598  9285.97455098\n",
      " 11044.05572206  9500.05657192 10661.42448389 11626.96286433\n",
      " 10150.89296486 13434.39273761 12992.52633449 13980.84722077\n",
      "  9487.25291227  7768.98974985 16768.15001964  7156.27607388\n",
      " 11182.83724062  8239.0404294   9193.09916356 12583.60484078\n",
      "  9633.27838936 11349.87747735 15946.77057369 10585.84596943\n",
      "  6993.34187369 17159.93823211  7574.6913443  14397.07853435\n",
      "  8365.38380789  8360.37860917 14664.81615969 14749.01794849\n",
      "  6941.31103624 10743.63509835  9051.01722993  9511.0968849\n",
      "  8931.72662199  8875.38777801  9324.97283878  8550.15338256\n",
      "  7867.30391725 16579.76381088  8404.62870003  7379.06755881\n",
      "  8385.00960868  8729.80033555 11348.46923906 13266.29532844\n",
      "  7076.12143684 10449.8718347   6686.74202537 10435.9396117\n",
      " 11119.59748108 11443.2087246  11727.93302908  6673.08069058\n",
      "  7800.91516581  9145.90440102  6637.39537881 12119.8956228\n",
      " 10471.3874734  10700.6292218  18132.51423762  9132.45318487\n",
      "  8854.6552923   9961.4565839   8497.24504962  6595.78885248\n",
      "  7926.48767079 13229.5738875  11684.64560631 13231.05993059\n",
      " 17288.36194714  5508.09952845  9577.84256845 11657.47760884\n",
      " 10110.07714258  8042.8744945  13245.43471191 13950.62495381\n",
      " 12368.379508    9401.36866451 12364.24511923  7860.09732475\n",
      "  8193.5303989   8879.82948059 15388.02064795  9739.11891584\n",
      " 10199.92702766 13190.35375653 11585.79474574  9362.04657337\n",
      "  9688.85656368 11592.7782516  10514.96474211  8339.62087053\n",
      " 16034.60685979 10535.75298701 17934.65050264  7812.26627795\n",
      "  8963.08622598  8464.15355826 12686.93580556 10765.60191905\n",
      "  7754.55321681 13112.14634956 10159.58768155  8521.52223272\n",
      " 16273.73089095  9802.04686543 13605.11074118  9312.05365718\n",
      "  7882.44224886  9571.90386451  9424.60026797  8374.34109143\n",
      "  6079.27064646 10812.32433097  8300.13101637 10254.61474488\n",
      " 12141.6089341   6813.47410033  9247.34678744 11017.03548267\n",
      "  5938.63274842 10634.02740596  6650.9130478  11536.90095532\n",
      "  8691.75437808 16525.44819274 13422.80362102  6325.9319462\n",
      " 15900.76705886  7173.42770115 12586.27805528  9570.95493972\n",
      " 17476.75753978]\n"
     ]
    }
   ],
   "source": [
    "Y_pred=lm.predict(X_test)\n",
    "print(Y_pred)"
   ]
  },
  {
   "cell_type": "code",
   "execution_count": 41,
   "metadata": {},
   "outputs": [
    {
     "data": {
      "text/plain": [
       "0.8510977142996689"
      ]
     },
     "execution_count": 41,
     "metadata": {},
     "output_type": "execute_result"
    }
   ],
   "source": [
    "lm.score(X_train,Y_train)"
   ]
  },
  {
   "cell_type": "code",
   "execution_count": 48,
   "metadata": {},
   "outputs": [
    {
     "name": "stdout",
     "output_type": "stream",
     "text": [
      "R-squared: 88.05006017862922 %\n",
      "RMSE: 1177.6964165384657\n"
     ]
    }
   ],
   "source": [
    "from sklearn.metrics import r2_score,mean_squared_error\n",
    "import numpy as np\n",
    "\n",
    "r2=r2_score(Y_test,Y_pred)\n",
    "print(\"R-squared:\",r2*100,'%')\n",
    "\n",
    "rmse=np.sqrt(mean_squared_error(Y_test,Y_pred))\n",
    "print(\"RMSE:\",rmse)"
   ]
  }
 ],
 "metadata": {
  "kernelspec": {
   "display_name": "Python 3",
   "language": "python",
   "name": "python3"
  },
  "language_info": {
   "codemirror_mode": {
    "name": "ipython",
    "version": 3
   },
   "file_extension": ".py",
   "mimetype": "text/x-python",
   "name": "python",
   "nbconvert_exporter": "python",
   "pygments_lexer": "ipython3",
   "version": "3.10.8"
  },
  "orig_nbformat": 4,
  "vscode": {
   "interpreter": {
    "hash": "0ebe4619d4811f9a489ffdadcbf204589b2354573b825516585d1cb6b26969f8"
   }
  }
 },
 "nbformat": 4,
 "nbformat_minor": 2
}
